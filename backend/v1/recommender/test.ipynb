{
 "cells": [
  {
   "cell_type": "code",
   "execution_count": 1,
   "metadata": {},
   "outputs": [
    {
     "name": "stdout",
     "output_type": "stream",
     "text": [
      "                                                            count      mean  \\\n",
      "movieId title                                                                 \n",
      "356     Forrest Gump (1994)                                 81491  4.048011   \n",
      "318     Shawshank Redemption, The (1994)                    81482  4.413576   \n",
      "296     Pulp Fiction (1994)                                 79672  4.188912   \n",
      "593     Silence of the Lambs, The (1991)                    74127  4.151342   \n",
      "2571    Matrix, The (1999)                                  72674  4.154099   \n",
      "260     Star Wars: Episode IV - A New Hope (1977)           68717  4.120189   \n",
      "480     Jurassic Park (1993)                                64144  3.679175   \n",
      "527     Schindler's List (1993)                             60411  4.247579   \n",
      "110     Braveheart (1995)                                   59184  4.002273   \n",
      "2959    Fight Club (1999)                                   58773  4.228311   \n",
      "589     Terminator 2: Judgment Day (1991)                   57379  3.946374   \n",
      "1196    Star Wars: Episode V - The Empire Strikes Back ...  57361  4.144122   \n",
      "1       Toy Story (1995)                                    57309  3.893708   \n",
      "4993    Lord of the Rings: The Fellowship of the Ring, ...  55736  4.091189   \n",
      "50      Usual Suspects, The (1995)                          55366  4.284353   \n",
      "\n",
      "                                                             finalGrade  \n",
      "movieId title                                                            \n",
      "356     Forrest Gump (1994)                                 7338.238011  \n",
      "318     Shawshank Redemption, The (1994)                    7337.793576  \n",
      "296     Pulp Fiction (1994)                                 7174.668912  \n",
      "593     Silence of the Lambs, The (1991)                    6675.581342  \n",
      "2571    Matrix, The (1999)                                  6544.814099  \n",
      "260     Star Wars: Episode IV - A New Hope (1977)           6188.650189  \n",
      "480     Jurassic Park (1993)                                5776.639175  \n",
      "527     Schindler's List (1993)                             5441.237579  \n",
      "110     Braveheart (1995)                                   5330.562273  \n",
      "2959    Fight Club (1999)                                   5293.798311  \n",
      "589     Terminator 2: Judgment Day (1991)                   5168.056374  \n",
      "1196    Star Wars: Episode V - The Empire Strikes Back ...  5166.634122  \n",
      "1       Toy Story (1995)                                    5161.703708  \n",
      "4993    Lord of the Rings: The Fellowship of the Ring, ...  5020.331189  \n",
      "50      Usual Suspects, The (1995)                          4987.224353  \n"
     ]
    }
   ],
   "source": [
    "import pandas as pd\n",
    "\n",
    "df_rating = pd.read_csv('./dataset/ratings.csv')\n",
    "df_movie = pd.read_csv('./dataset/movies.csv')\n",
    "\n",
    "merge_df = pd.merge(df_rating, df_movie, on='movieId')\n",
    "\n",
    "grouped_df = merge_df.groupby(['movieId', 'title'])['rating'].agg(['count', 'mean'])\n",
    "\n",
    "#sorted_df = grouped_df.sort_values(by=['count', 'mean'], ascending=[False, False])\n",
    "\n",
    "grouped_df['finalGrade'] = grouped_df['mean'] + (grouped_df['count'] * 0.09)\n",
    "\n",
    "sorted_df = grouped_df.sort_values(by=['finalGrade'], ascending=[False])\n",
    "\n",
    "print(sorted_df.head(15))"
   ]
  },
  {
   "cell_type": "code",
   "execution_count": null,
   "metadata": {},
   "outputs": [],
   "source": [
    "import pandas as pd\n",
    "\n",
    "df_rating = pd.read_csv('./dataset/ratings.csv')\n",
    "df_movie = pd.read_csv('./dataset/movies.csv')\n",
    "\n",
    "merge_df = pd.merge(df_rating, df_movie, on='movieId')\n",
    "\n",
    "grouped_df = merge_df.groupby(['movieId', 'title'])['rating'].agg(['count', 'mean'])\n",
    "\n",
    "#sorted_df = grouped_df.sort_values(by=['count', 'mean'], ascending=[False, False])\n",
    "\n",
    "grouped_df['finalGrade'] = grouped_df['mean'] + (grouped_df['count'] * 0.09)\n",
    "\n",
    "sorted_df = grouped_df.sort_values(by=['finalGrade'], ascending=[False])\n",
    "\n",
    "print(sorted_df.head(15))"
   ]
  }
 ],
 "metadata": {
  "kernelspec": {
   "display_name": "Python 3",
   "language": "python",
   "name": "python3"
  },
  "language_info": {
   "codemirror_mode": {
    "name": "ipython",
    "version": 3
   },
   "file_extension": ".py",
   "mimetype": "text/x-python",
   "name": "python",
   "nbconvert_exporter": "python",
   "pygments_lexer": "ipython3",
   "version": "3.11.1"
  },
  "orig_nbformat": 4
 },
 "nbformat": 4,
 "nbformat_minor": 2
}
